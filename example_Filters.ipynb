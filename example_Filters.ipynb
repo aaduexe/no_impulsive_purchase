{
 "cells": [
  {
   "cell_type": "code",
   "execution_count": 5,
   "metadata": {},
   "outputs": [],
   "source": [
    "from source.dataLogic import DataHandler\n",
    "from datetime import date, timedelta\n",
    "import pandas as pd"
   ]
  },
  {
   "cell_type": "markdown",
   "metadata": {},
   "source": [
    "To filter out items which are in the list for more than 30 Days."
   ]
  },
  {
   "cell_type": "code",
   "execution_count": 7,
   "metadata": {},
   "outputs": [
    {
     "name": "stdout",
     "output_type": "stream",
     "text": [
      "        date   item  status\n",
      "0 2025-01-24  Table  denied\n"
     ]
    }
   ],
   "source": [
    "loadData = DataHandler()\n",
    "loadData.data['date'] = pd.to_datetime(loadData.data['date'])\n",
    "itemsOver30 = loadData.data[loadData.data['date']< pd.Timestamp(date.today() - timedelta(days=30))]\n",
    "print(itemsOver30)"
   ]
  },
  {
   "cell_type": "markdown",
   "metadata": {},
   "source": [
    "To filter out items which have the status approved."
   ]
  },
  {
   "cell_type": "code",
   "execution_count": 9,
   "metadata": {},
   "outputs": [
    {
     "name": "stdout",
     "output_type": "stream",
     "text": [
      "         date   item    status\n",
      "0  2025-01-24  Table  approved\n"
     ]
    }
   ],
   "source": [
    "loadData = DataHandler()\n",
    "itemsApproved = loadData.data[loadData.data['status']== 'approved']\n",
    "print(itemsApproved)"
   ]
  }
 ],
 "metadata": {
  "kernelspec": {
   "display_name": "Python 3",
   "language": "python",
   "name": "python3"
  },
  "language_info": {
   "codemirror_mode": {
    "name": "ipython",
    "version": 3
   },
   "file_extension": ".py",
   "mimetype": "text/x-python",
   "name": "python",
   "nbconvert_exporter": "python",
   "pygments_lexer": "ipython3",
   "version": "3.13.2"
  }
 },
 "nbformat": 4,
 "nbformat_minor": 2
}
