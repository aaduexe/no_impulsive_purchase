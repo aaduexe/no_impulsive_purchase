{
 "cells": [
  {
   "cell_type": "code",
   "execution_count": 1,
   "metadata": {},
   "outputs": [],
   "source": [
    "from source.dataLogic import DataHandler\n",
    "import source.bareBone as bb\n",
    "from datetime import date\n",
    "from datetime import datetime"
   ]
  },
  {
   "cell_type": "markdown",
   "metadata": {},
   "source": [
    "Update the status of an item based on the desired Item. Currently it matches it exactly with the user input. Depending on the score it assigns `approved` or `denied` to the status column."
   ]
  },
  {
   "cell_type": "code",
   "execution_count": null,
   "metadata": {},
   "outputs": [],
   "source": [
    "dataFrame = DataHandler()\n",
    "print(dataFrame.data)\n",
    "desiredItem_key = input(\"Type name of item you want to buy.\\n\")\n",
    "questionScore = bb.AskSession()\n",
    "print(questionScore)\n",
    "status_value = bb.Conclusion(questionScore)\n",
    "print(status_value)\n",
    "dataFrame.statusUpdate(desiredItem_key, status_value)\n",
    "dataFrame.saveData()"
   ]
  },
  {
   "cell_type": "markdown",
   "metadata": {},
   "source": [
    "Same as above with one additional close to intended feature.\n",
    "It will let you answer the question for only the product which were in your database for more than 30 days."
   ]
  },
  {
   "cell_type": "code",
   "execution_count": null,
   "metadata": {},
   "outputs": [
    {
     "name": "stdout",
     "output_type": "stream",
     "text": [
      "         date   item    status\n",
      "0  2025-01-24  Table  approved\n",
      "1  2025-03-24  Shoes   waiting\n",
      "Have I consulted with someone else about this purchase?\n",
      "Will this item improve my daily life?\n",
      "Do I have any unresolved doubts about purchasing this item?\n",
      "Do I need this item?\n",
      "Have I read reviews or ratings about this item?\n",
      "-5\n",
      "Do you really need it. My calculation says you don't!\n",
      "denied\n"
     ]
    }
   ],
   "source": [
    "dataFrame = DataHandler()\n",
    "print(dataFrame.data)\n",
    "desiredItem_key = input(\"Type name of item you want to buy.\\n\")\n",
    "\n",
    "dateRec = dataFrame.data.loc[dataFrame.data['item'] == desiredItem_key, 'date'].values[0]\n",
    "days = (date.today() - datetime.strptime(str(dateRec), \"%Y-%m-%d\").date()).days\n",
    "\n",
    "if days > 29:\n",
    "    questionScore = bb.AskSession()\n",
    "    status_value = bb.Conclusion(questionScore)\n",
    "    dataFrame.statusUpdate(desiredItem_key, status_value)\n",
    "    dataFrame.saveData()\n",
    "else:\n",
    "    if days == 1:\n",
    "        print(\"It's been\",days,\"day only. Please wait for at-least 30 days.\")\n",
    "    else:\n",
    "        print(\"It's been\",days,\"days only. Please wait for at-least 30 days.\")\n"
   ]
  }
 ],
 "metadata": {
  "kernelspec": {
   "display_name": "Python 3",
   "language": "python",
   "name": "python3"
  },
  "language_info": {
   "codemirror_mode": {
    "name": "ipython",
    "version": 3
   },
   "file_extension": ".py",
   "mimetype": "text/x-python",
   "name": "python",
   "nbconvert_exporter": "python",
   "pygments_lexer": "ipython3",
   "version": "3.13.2"
  }
 },
 "nbformat": 4,
 "nbformat_minor": 2
}
