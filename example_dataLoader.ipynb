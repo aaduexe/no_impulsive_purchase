{
 "cells": [
  {
   "cell_type": "code",
   "execution_count": 1,
   "metadata": {},
   "outputs": [],
   "source": [
    "from source.dataLogic import DataHandler"
   ]
  },
  {
   "cell_type": "markdown",
   "metadata": {},
   "source": [
    "Load the dataframe, and if it doesn't exist then, create new one."
   ]
  },
  {
   "cell_type": "code",
   "execution_count": 2,
   "metadata": {},
   "outputs": [],
   "source": [
    "dataFrame = DataHandler()"
   ]
  },
  {
   "cell_type": "markdown",
   "metadata": {},
   "source": [
    "Let's add new data inside the data frame. The dataFrame loaded by `DataHandler` is:\n",
    "date | item | status | score\n",
    "----- | ----- | ----- | -----\n",
    "\n",
    "We are going to fill in 1 row:\n",
    "date | item | status | score\n",
    "----- | ----- | ----- | -----\n",
    "2025-10-19 | Table Lamp | denied | -23"
   ]
  },
  {
   "cell_type": "code",
   "execution_count": null,
   "metadata": {},
   "outputs": [],
   "source": [
    "new_row = {'date': '2025,10,19',\n",
    "           'item': 'Table Lamp',\n",
    "           'status': 'denied',\n",
    "           'score':'-23'}\n",
    "\n",
    "dataFrame.dataUpdate(new_row) #This needs the python dict to be passed as arguement\n",
    "dataFrame.saveData()\n",
    "# check the main directory after running this code, you will find new csv file named data.csv\n",
    "# Currently running it multiple times while the file exists will simply add new row in the file with same data."
   ]
  }
 ],
 "metadata": {
  "kernelspec": {
   "display_name": "Python 3",
   "language": "python",
   "name": "python3"
  },
  "language_info": {
   "codemirror_mode": {
    "name": "ipython",
    "version": 3
   },
   "file_extension": ".py",
   "mimetype": "text/x-python",
   "name": "python",
   "nbconvert_exporter": "python",
   "pygments_lexer": "ipython3",
   "version": "3.13.2"
  }
 },
 "nbformat": 4,
 "nbformat_minor": 2
}
